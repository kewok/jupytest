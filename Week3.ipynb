{
 "cells": [
  {
   "cell_type": "markdown",
   "metadata": {},
   "source": [
    "# Introducing individual-based modeling\n",
    "\n",
    "Individual-based models (sometimes called \"Agent-based models\") are an approach to understanding complex phenomena (like evolution) in which each individual organism is simulated explicitly. The basic idea is to understand how system behaviors emerge from the action of several individuals. A classic example of how system behaviors emerge from individual actions is collective motions in schools of fish:\n",
    "<img src=Pics/F1.large.jpg>\n",
    "Each individual fish moves according to a set of rules of what its neighbor does, and out of the actions of many individual fish, we see how the behavior of the school emerges."
   ]
  },
  {
   "cell_type": "markdown",
   "metadata": {},
   "source": [
    "In fact, we've already been exposed to a simple individual-based model with AVIDA-Ed. Each individual \"Avidian\" is born, reproduces and dies, and out of their collective births, deaths and mutations, after many generations the evolutionary dynamics of the plate as a whole \"emerges\". However, as we reflected on Tuesday, there are inherent limitations to AVIDA-Ed - for instance, individual movement of organisms is hard to simulate, reproduction is asexual,  multitrophic interactions are not accounted for, there are no other species, etc... There is therefore a pretty limited scope for exploring richer topics if we want to understand the evolution of organisms other than bacteria on limited petri dishes."
   ]
  },
  {
   "cell_type": "markdown",
   "metadata": {},
   "source": [
    "Today, we are going to try to explore how we can build a basic individual-based model for studying evolution. Our goals are very simple: we will first explore how we can characterize individuals using Blockly. We will then perform some basic operations on these individuals repeatedly over time. The key to working on the Blockly exercises today is to __nest__ - that is, we will work with \"lists of lists\" and \"loops of loops\". Take a moment and jot down in the cell below what you think that means. Remember the Markdown tags &lt;mark&gt;!"
   ]
  },
  {
   "cell_type": "markdown",
   "metadata": {},
   "source": [
    "\n",
    "A word about Blockly this week. Since we will be working in an incremental manner and building towards a final simulation, it would be a good idea to work in a single Blockly workspace/environment rather than have a bunch of separate workspaces. The latter will require you to duplicate a lot of effort, and unfortunately there is no easy way in Blockly to copy and paste across workspaces.\n",
    "\n",
    "## Creating individuals in a population\n",
    "To create an individual, the magic of what we are going to do will involve creating an individual as a \"list of lists\" - that is, an individual will consist of a list of two other lists: their genotypes and their phenotypes. Let's assume that the list of genotypes has 5 elements, with the ith element of the list being equal to the allelic value at locus i, and three phenotypes. So, go ahead and run the cell below, create a list \"genotypes\" with five elements and a list \"phenotypes\" with three elements, and see if you can create a list called \"individual 1\" consisting of these two lists."
   ]
  },
  {
   "cell_type": "code",
   "execution_count": 1,
   "metadata": {},
   "outputs": [
    {
     "data": {
      "application/javascript": [
       "\n",
       "    if (document.jigsaw_register_workspace === undefined) {\n",
       "\n",
       "        document.jigsaw_workspaces = {};\n",
       "\n",
       "        document.jigsaw_register_workspace = function(workspace_filename, workspace, xml_init) {\n",
       "            workspace.element = document.element;\n",
       "            document.jigsaw_workspaces[workspace_filename] = workspace;\n",
       "\n",
       "            try {\n",
       "                $([window.parent.IPython.events]).on('notebook_saved.Notebook', function() { \n",
       "                    try {\n",
       "                        document.jigsaw_save_workspace(workspace_filename); \n",
       "                    } catch(err) {\n",
       "                        // ignore failure, might not exist\n",
       "                    }\n",
       "                });\n",
       "            } catch (err) {\n",
       "                // rendering for display\n",
       "            }\n",
       "            \n",
       "            var xml = document.jigsaw_loadXMLDoc(workspace_filename);\n",
       "            if (xml === null) {\n",
       "                xml = xml_init;\n",
       "                if (xml === null) {\n",
       "                    xml = Blockly.Xml.textToDom('<xml id=\"workspace\"></xml>');\n",
       "                }\n",
       "            } else {\n",
       "                xml = xml.children[0]; // document\n",
       "            }\n",
       "            Blockly.Xml.domToWorkspace(workspace, xml);\n",
       "        };\n",
       "\n",
       "        document.jigsaw_handle_output = function(workspace_filename, out) {\n",
       "            var workspace = document.jigsaw_workspaces[workspace_filename];\n",
       "            //var output_area = workspace.element.output_area;\n",
       "            var cell_index = document.jigsaw_get_cell(workspace.element);\n",
       "            var cell = IPython.notebook.get_cell(cell_index);\n",
       "            var res = null;\n",
       "            var data = null;\n",
       "            document.cell = cell;\n",
       "            document.out = out;\n",
       "            if (out.msg_type == \"stream\") {\n",
       "                res = out.content.text;\n",
       "                //document.getElementById('code_output').value += res.toString();\n",
       "            } else if (out.msg_type === \"pyout\") {\n",
       "                // if output is a python object\n",
       "                res = out.content.data[\"text/plain\"];\n",
       "                //document.getElementById('code_output').value += res.toString(); \n",
       "            } else if (out.msg_type == \"pyerr\") {\n",
       "                // if output is a python error\n",
       "                res = out.content.data[\"text/plain\"];\n",
       "                //document.getElementById('code_output').value += res.toString();\n",
       "            } else if (out.msg_type == \"execute_result\") {\n",
       "                var str = out.content.data[\"text/plain\"];\n",
       "                res = str;\n",
       "                if (res.indexOf(\"u\") == 0)\n",
       "                    res = res.substring(2, res.length - 1) + \"\\n\";\n",
       "                if (res) {\n",
       "                    //document.getElementById('code_output').value += res.toString();\n",
       "                }\n",
       "            } else if (out.msg_type == \"error\") {\n",
       "                res = out.content.ename + \": \" + out.content.evalue + \"\\n\";\n",
       "                // FIXME: out.traceback is Array of terminal color-coded [-codes\n",
       "            } else {\n",
       "                // if output is something we haven't thought of\n",
       "                res = out.toString();\n",
       "                //document.getElementById('code_output').value += res.toString();\n",
       "            }\n",
       "            if (res) {\n",
       "                cell.output_area.append_output({output_type: \"stream\", text: res.toString(), name: \"output\"});\n",
       "            }\n",
       "        };\n",
       "        \n",
       "        document.jigsaw_generate = function(workspace_filename, language, insert_code) {\n",
       "            var workspace = document.jigsaw_workspaces[workspace_filename];\n",
       "            var callbacks = { 'iopub' : {'output' : function(out) { document.jigsaw_handle_output(workspace_filename, out); }}};\n",
       "            var code = Blockly[language].workspaceToCode(workspace);\n",
       "            if (insert_code == 1) {\n",
       "                var cell_index = document.jigsaw_get_cell(workspace.element);\n",
       "                var cell = IPython.notebook.insert_cell_at_index(0, cell_index + 1);\n",
       "                cell.set_text(code);\n",
       "            } else {\n",
       "                window.parent.IPython.notebook.kernel.execute(code,\n",
       "                                                              callbacks,\n",
       "                                                              {silent: false});\n",
       "            }\n",
       "        };\n",
       "        \n",
       "        document.jigsaw_save_workspace = function(workspace_filename) {\n",
       "            var workspace = document.jigsaw_workspaces[workspace_filename];\n",
       "            var xml = Blockly.Xml.workspaceToDom(workspace);\n",
       "            document.xml = xml;\n",
       "            if (xml !== undefined) {\n",
       "                console.log(xml);\n",
       "                //xml.style = \"display: none\";\n",
       "                //xml.id = \"workspace\";\n",
       "                var xml_text = Blockly.Xml.domToText(xml)\n",
       "                IPython.notebook.kernel.execute('%%file ' + workspace_filename + '\\n' + xml_text);\n",
       "            }\n",
       "        };\n",
       "        \n",
       "        document.jigsaw_loadXMLDoc = function(filename) {\n",
       "            var xhttp = new XMLHttpRequest();\n",
       "            xhttp.open(\"GET\", filename, false);\n",
       "            xhttp.send();\n",
       "            return xhttp.responseXML;\n",
       "        };\n",
       "    }\n",
       "\n",
       "    document.jigsaw_get_cell = function (element) {\n",
       "        // FIXME: brittle and ugly:\n",
       "        var mydiv = element[0].parentNode.parentNode.parentNode.parentNode;\n",
       "        var cells = IPython.notebook.get_cells();\n",
       "        for (var i = 0; i < cells.length; i++) {\n",
       "            if (mydiv === cells[i].element[0]) {\n",
       "                return i;\n",
       "            }\n",
       "        }\n",
       "        return null;\n",
       "    };\n",
       "\n",
       "    document.jigsaw_clear_output = function (workspace_filename) {\n",
       "        var workspace = document.jigsaw_workspaces[workspace_filename];\n",
       "        var cell_index = document.jigsaw_get_cell(workspace.element);\n",
       "        var cell = IPython.notebook.get_cell(cell_index);\n",
       "        // FIXME: brittle and ugly:\n",
       "        cell.element[0].children[2].children[1].children[2].children[1].children[0].innerHTML = \"\"\n",
       "        cell.output_area.outputs[2].text = \"\"\n",
       "    };\n",
       "\n",
       "    try {\n",
       "        document.element = element;\n",
       "    } catch (err) {\n",
       "        // rendering\n",
       "    }\n"
      ],
      "text/plain": [
       "<IPython.core.display.Javascript object>"
      ]
     },
     "metadata": {},
     "output_type": "display_data"
    },
    {
     "data": {
      "text/html": [
       "<iframe src=\"workspace8.html\" width=\"100%\" height=\"350\" style=\"resize: both; overflow: auto;\"></iframe>"
      ],
      "text/plain": [
       "<IPython.core.display.HTML object>"
      ]
     },
     "metadata": {},
     "output_type": "display_data"
    }
   ],
   "source": [
    "from metakernel import register_ipython_magics # Don't worry about this stuff for now. Just focus on the console below.\n",
    "register_ipython_magics()\n",
    "%jigsaw Python --workspace workspace8"
   ]
  },
  {
   "cell_type": "markdown",
   "metadata": {},
   "source": [
    "But this creates only one individual, when in fact we want to describe how multiple individuals evolve. No problem! What will do is create a population as a \"list of lists of lists\" - that is, a list of individuals. So, see if you can create a list of 10 individuals, and store it as a variable `My_Pop`. You can duplicate individuals by copying and pasting the list of a single individual and appending that individual to your `My_Pop` list. This task might be even easier if you look at all the different options available upon clicking the \"List\" button and choose carefully. \n",
    "\n",
    "While putting together your blocks, keep in mind a result from Week 2's Jupyter notebook: the order from top to bottom in which you arrange your instructions is the order in which your instructions will get executed. "
   ]
  },
  {
   "cell_type": "markdown",
   "metadata": {},
   "source": [
    "Go and try this in your Blockly workspace."
   ]
  },
  {
   "cell_type": "markdown",
   "metadata": {},
   "source": [
    "## Initialization of our individuals\n",
    "Next, we want to *initialize* our population - that is, you want to specify their starting conditions. Using a loop, see if you can set each of everyone's genotype and phenotype values to one. \n",
    "\n",
    "This is actually not trivial. In order to get this to work, you want to use what is called a \"nested loop\", that is, the \"do\" statement of a loop will consist of another loop. The trick is that for each element (i.e., either genotype or phenotype list) in your individual, you want to select the \"count with i from ...\" box for the loop. You then want to set the ith element of the genotype and phenotype list as one. A useful value to use in the \"to\" slot is the \"length of\" block from the List tab."
   ]
  },
  {
   "cell_type": "markdown",
   "metadata": {},
   "source": [
    "Go and try this in your Blockly workspace."
   ]
  },
  {
   "cell_type": "markdown",
   "metadata": {},
   "source": [
    "But what if we wanted to initiate our phenotypes as one thing, but our genotypes as another value? For example, suppose that the phenotypes should all be \"3\", not \"1\", to start. To do this, you can retrieve the 2nd list of your list that makes up an individual (after all, this second list is the list of phenotypes). Then what you will do is  change every value of the list to \"3\". Putting all this together is a little tough, but go ahead and see if you can figure out how to initialize the phenotypes to a different set of values, say, 3. Print your results for that individual's phenotypes. Try to get this to work for a single individual first before you try it on the entire population."
   ]
  },
  {
   "cell_type": "code",
   "execution_count": 2,
   "metadata": {
    "scrolled": true
   },
   "outputs": [
    {
     "data": {
      "application/javascript": [
       "\n",
       "    if (document.jigsaw_register_workspace === undefined) {\n",
       "\n",
       "        document.jigsaw_workspaces = {};\n",
       "\n",
       "        document.jigsaw_register_workspace = function(workspace_filename, workspace, xml_init) {\n",
       "            workspace.element = document.element;\n",
       "            document.jigsaw_workspaces[workspace_filename] = workspace;\n",
       "\n",
       "            try {\n",
       "                $([window.parent.IPython.events]).on('notebook_saved.Notebook', function() { \n",
       "                    try {\n",
       "                        document.jigsaw_save_workspace(workspace_filename); \n",
       "                    } catch(err) {\n",
       "                        // ignore failure, might not exist\n",
       "                    }\n",
       "                });\n",
       "            } catch (err) {\n",
       "                // rendering for display\n",
       "            }\n",
       "            \n",
       "            var xml = document.jigsaw_loadXMLDoc(workspace_filename);\n",
       "            if (xml === null) {\n",
       "                xml = xml_init;\n",
       "                if (xml === null) {\n",
       "                    xml = Blockly.Xml.textToDom('<xml id=\"workspace\"></xml>');\n",
       "                }\n",
       "            } else {\n",
       "                xml = xml.children[0]; // document\n",
       "            }\n",
       "            Blockly.Xml.domToWorkspace(workspace, xml);\n",
       "        };\n",
       "\n",
       "        document.jigsaw_handle_output = function(workspace_filename, out) {\n",
       "            var workspace = document.jigsaw_workspaces[workspace_filename];\n",
       "            //var output_area = workspace.element.output_area;\n",
       "            var cell_index = document.jigsaw_get_cell(workspace.element);\n",
       "            var cell = IPython.notebook.get_cell(cell_index);\n",
       "            var res = null;\n",
       "            var data = null;\n",
       "            document.cell = cell;\n",
       "            document.out = out;\n",
       "            if (out.msg_type == \"stream\") {\n",
       "                res = out.content.text;\n",
       "                //document.getElementById('code_output').value += res.toString();\n",
       "            } else if (out.msg_type === \"pyout\") {\n",
       "                // if output is a python object\n",
       "                res = out.content.data[\"text/plain\"];\n",
       "                //document.getElementById('code_output').value += res.toString(); \n",
       "            } else if (out.msg_type == \"pyerr\") {\n",
       "                // if output is a python error\n",
       "                res = out.content.data[\"text/plain\"];\n",
       "                //document.getElementById('code_output').value += res.toString();\n",
       "            } else if (out.msg_type == \"execute_result\") {\n",
       "                var str = out.content.data[\"text/plain\"];\n",
       "                res = str;\n",
       "                if (res.indexOf(\"u\") == 0)\n",
       "                    res = res.substring(2, res.length - 1) + \"\\n\";\n",
       "                if (res) {\n",
       "                    //document.getElementById('code_output').value += res.toString();\n",
       "                }\n",
       "            } else if (out.msg_type == \"error\") {\n",
       "                res = out.content.ename + \": \" + out.content.evalue + \"\\n\";\n",
       "                // FIXME: out.traceback is Array of terminal color-coded [-codes\n",
       "            } else {\n",
       "                // if output is something we haven't thought of\n",
       "                res = out.toString();\n",
       "                //document.getElementById('code_output').value += res.toString();\n",
       "            }\n",
       "            if (res) {\n",
       "                cell.output_area.append_output({output_type: \"stream\", text: res.toString(), name: \"output\"});\n",
       "            }\n",
       "        };\n",
       "        \n",
       "        document.jigsaw_generate = function(workspace_filename, language, insert_code) {\n",
       "            var workspace = document.jigsaw_workspaces[workspace_filename];\n",
       "            var callbacks = { 'iopub' : {'output' : function(out) { document.jigsaw_handle_output(workspace_filename, out); }}};\n",
       "            var code = Blockly[language].workspaceToCode(workspace);\n",
       "            if (insert_code == 1) {\n",
       "                var cell_index = document.jigsaw_get_cell(workspace.element);\n",
       "                var cell = IPython.notebook.insert_cell_at_index(0, cell_index + 1);\n",
       "                cell.set_text(code);\n",
       "            } else {\n",
       "                window.parent.IPython.notebook.kernel.execute(code,\n",
       "                                                              callbacks,\n",
       "                                                              {silent: false});\n",
       "            }\n",
       "        };\n",
       "        \n",
       "        document.jigsaw_save_workspace = function(workspace_filename) {\n",
       "            var workspace = document.jigsaw_workspaces[workspace_filename];\n",
       "            var xml = Blockly.Xml.workspaceToDom(workspace);\n",
       "            document.xml = xml;\n",
       "            if (xml !== undefined) {\n",
       "                console.log(xml);\n",
       "                //xml.style = \"display: none\";\n",
       "                //xml.id = \"workspace\";\n",
       "                var xml_text = Blockly.Xml.domToText(xml)\n",
       "                IPython.notebook.kernel.execute('%%file ' + workspace_filename + '\\n' + xml_text);\n",
       "            }\n",
       "        };\n",
       "        \n",
       "        document.jigsaw_loadXMLDoc = function(filename) {\n",
       "            var xhttp = new XMLHttpRequest();\n",
       "            xhttp.open(\"GET\", filename, false);\n",
       "            xhttp.send();\n",
       "            return xhttp.responseXML;\n",
       "        };\n",
       "    }\n",
       "\n",
       "    document.jigsaw_get_cell = function (element) {\n",
       "        // FIXME: brittle and ugly:\n",
       "        var mydiv = element[0].parentNode.parentNode.parentNode.parentNode;\n",
       "        var cells = IPython.notebook.get_cells();\n",
       "        for (var i = 0; i < cells.length; i++) {\n",
       "            if (mydiv === cells[i].element[0]) {\n",
       "                return i;\n",
       "            }\n",
       "        }\n",
       "        return null;\n",
       "    };\n",
       "\n",
       "    document.jigsaw_clear_output = function (workspace_filename) {\n",
       "        var workspace = document.jigsaw_workspaces[workspace_filename];\n",
       "        var cell_index = document.jigsaw_get_cell(workspace.element);\n",
       "        var cell = IPython.notebook.get_cell(cell_index);\n",
       "        // FIXME: brittle and ugly:\n",
       "        cell.element[0].children[2].children[1].children[2].children[1].children[0].innerHTML = \"\"\n",
       "        cell.output_area.outputs[2].text = \"\"\n",
       "    };\n",
       "\n",
       "    try {\n",
       "        document.element = element;\n",
       "    } catch (err) {\n",
       "        // rendering\n",
       "    }\n"
      ],
      "text/plain": [
       "<IPython.core.display.Javascript object>"
      ]
     },
     "metadata": {},
     "output_type": "display_data"
    },
    {
     "data": {
      "text/html": [
       "<iframe src=\"workspace11.html\" width=\"100%\" height=\"350\" style=\"resize: both; overflow: auto;\"></iframe>"
      ],
      "text/plain": [
       "<IPython.core.display.HTML object>"
      ]
     },
     "metadata": {},
     "output_type": "display_data"
    }
   ],
   "source": [
    "from metakernel import register_ipython_magics # Don't worry about this stuff for now. Just focus on the console below.\n",
    "register_ipython_magics()\n",
    "%jigsaw Python --workspace workspace11"
   ]
  },
  {
   "cell_type": "markdown",
   "metadata": {},
   "source": [
    "Now see if you can perform this operation on the remaining 10 individuals in our population. Again, you want to see if you can nest one loop inside of another."
   ]
  },
  {
   "cell_type": "markdown",
   "metadata": {},
   "source": [
    "## Birth and Death\n",
    "\n",
    "Simulating birth and death is actually not very hard in Blockly. Let's start with birth. Click on Lists, and choose the Block \"in list list set # ...\". Specify your list as `My_Pop` and instead of \"set\" select \"insert at\", and instead of \"#\" choose \"last\". Now insert your variable `individual 1`, which should consist of a list. Run this in Blockly, print the list `My_Pop`, and in the cell below, tell me what you see."
   ]
  },
  {
   "cell_type": "markdown",
   "metadata": {},
   "source": []
  },
  {
   "cell_type": "markdown",
   "metadata": {},
   "source": [
    "Death is also pretty straightforward to implement. Select the block \"In list list get #...\" under Lists. Replace the variable `list` with `My_Pop`, and where it says \"get\", select \"remove\". Specify that you will remove the 1st individual in `My_Pop`. Run this in your Blockly workspace, print the list `My_Pop`, and in the cell below, tell me what you see."
   ]
  },
  {
   "cell_type": "markdown",
   "metadata": {},
   "source": []
  },
  {
   "cell_type": "markdown",
   "metadata": {},
   "source": [
    "And that's all their is to birth and death! Notice that the list \"My_Pop\" is getting updated with births and deaths of individuals. Pretty neat, huh? \n",
    "\n",
    "Now for the fun part. What we can do is embed both the birth and death inside a loop that will represent time. Go ahead and try this in your Blockly workspace."
   ]
  },
  {
   "cell_type": "markdown",
   "metadata": {},
   "source": [
    "# Take home message\n",
    "\n",
    "To be sure, we don't have simulations of inheritance or differential reproductive potential working yet, so our instructions won't let us use individual-based models to simulate evolutionary dynamics just yet. But what you've done today lays the foundation for thinking about how you can use the computer to represent individual organisms and how populations of individual organisms can change through the processes of birth and death.\n",
    "\n",
    "This was a challenging assignment.  Here is where I fall back on another of my favorite quotes, this time from Henry Ford: \"Nothing is particularly hard if you divide it into small jobs\". Like all problem solving exercises, using computers to study evolution boils down to figuring out how to break a difficult problem down into smaller components, solving each of those components, and then putting your solutions back together again to solve the bigger problem. What you saw today was that through variation of loops and lists, you were able to construct a pretty sophisticated simulation of an evolving ecosystem. Nice job!"
   ]
  },
  {
   "cell_type": "markdown",
   "metadata": {},
   "source": [
    "Take a moment to write a reflection in a cell below about what you think you learned with this exercise. What do you think was the core \"trick\" you had to do to get your code to run correctly? What are some approaches to solving this problem that you think were dead ends? How might you go about solving similar problems in the future?"
   ]
  }
 ],
 "metadata": {
  "kernelspec": {
   "display_name": "Python 3",
   "language": "python",
   "name": "python3"
  },
  "language_info": {
   "codemirror_mode": {
    "name": "ipython",
    "version": 3
   },
   "file_extension": ".py",
   "mimetype": "text/x-python",
   "name": "python",
   "nbconvert_exporter": "python",
   "pygments_lexer": "ipython3",
   "version": "3.5.2"
  }
 },
 "nbformat": 4,
 "nbformat_minor": 2
}
